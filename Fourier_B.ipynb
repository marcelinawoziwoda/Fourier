{
  "nbformat": 4,
  "nbformat_minor": 0,
  "metadata": {
    "colab": {
      "name": "Fourier_B.ipynb",
      "provenance": []
    },
    "kernelspec": {
      "name": "python3",
      "display_name": "Python 3"
    },
    "language_info": {
      "name": "python"
    }
  },
  "cells": [
    {
      "cell_type": "code",
      "execution_count": 1,
      "metadata": {
        "id": "Kyv4fXZm8YpL"
      },
      "outputs": [],
      "source": [
        "import numpy as np"
      ]
    },
    {
      "cell_type": "code",
      "source": [
        "from sympy import *"
      ],
      "metadata": {
        "id": "fpnPOjly8yvx"
      },
      "execution_count": 2,
      "outputs": []
    },
    {
      "cell_type": "code",
      "source": [
        "a, b, c, t = symbols('a b c t')\n",
        "A,B,C=0.47333333333333333, -0.414769487313794, 0.03576593567901777"
      ],
      "metadata": {
        "id": "qgwZ_5sp84fc"
      },
      "execution_count": 3,
      "outputs": []
    },
    {
      "cell_type": "code",
      "source": [
        "w=pi"
      ],
      "metadata": {
        "id": "bBXz_ReI85wx"
      },
      "execution_count": 4,
      "outputs": []
    },
    {
      "cell_type": "code",
      "source": [
        "expr=(a*t**2+b*t+c -(A+B*cos(w*t)+C*cos(2*w*t)))*t**2\n",
        "expr2=(a*t**2+b*t+c -(A+B*cos(w*t)+C*cos(2*w*t)))*t\n",
        "expr3=(a*t**2+b*t+c -(A+B*cos(w*t)+C*cos(2*w*t)))*1"
      ],
      "metadata": {
        "id": "xr3YQzZd873_"
      },
      "execution_count": 5,
      "outputs": []
    },
    {
      "cell_type": "code",
      "source": [
        "sol1=integrate (expr,(t, -1, 1))\n",
        "sol2=integrate (expr2,(t, -1, 1))\n",
        "sol3=integrate (expr3,(t, -1, 1))"
      ],
      "metadata": {
        "id": "WINMhGbK8-MG"
      },
      "execution_count": 6,
      "outputs": []
    },
    {
      "cell_type": "code",
      "source": [
        "print('Exp1: ', sol1)\n",
        "print('Exp2: ', sol2)\n",
        "print('Exp3: ', sol3)"
      ],
      "metadata": {
        "colab": {
          "base_uri": "https://localhost:8080/"
        },
        "id": "GC6rZu-l9qRI",
        "outputId": "f0b5ac7c-76ab-47a4-c10c-8e69c35ad52c"
      },
      "execution_count": 7,
      "outputs": [
        {
          "output_type": "stream",
          "name": "stdout",
          "text": [
            "Exp1:  0.4*a + 0.666666666666667*c - 0.315555555555556 - 1.69484388493419/pi**2\n",
            "Exp2:  0.666666666666667*b\n",
            "Exp3:  2*a/3 + 2*c - 0.946666666666667\n"
          ]
        }
      ]
    },
    {
      "cell_type": "code",
      "source": [
        "eqn=[\n",
        "          Eq(sol1,0),\n",
        "          Eq(sol2,0),\n",
        "          Eq(sol3,0)\n",
        "]"
      ],
      "metadata": {
        "id": "_MBdLN1H9rlA"
      },
      "execution_count": 8,
      "outputs": []
    },
    {
      "cell_type": "code",
      "source": [
        "print(solve(eqn))"
      ],
      "metadata": {
        "colab": {
          "base_uri": "https://localhost:8080/"
        },
        "id": "Wa9RbjHS9w7e",
        "outputId": "28d824e0-a3b6-403e-f164-5c02b2c75325"
      },
      "execution_count": 9,
      "outputs": [
        {
          "output_type": "stream",
          "name": "stdout",
          "text": [
            "{a: 0.965945185371620, c: 0.151351604876127, b: 0.0}\n"
          ]
        }
      ]
    },
    {
      "cell_type": "code",
      "source": [
        ""
      ],
      "metadata": {
        "id": "1RHhao799yl8"
      },
      "execution_count": null,
      "outputs": []
    }
  ]
}