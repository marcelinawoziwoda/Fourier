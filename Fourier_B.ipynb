{
  "nbformat": 4,
  "nbformat_minor": 0,
  "metadata": {
    "colab": {
      "name": "Untitled5.ipynb",
      "provenance": []
    },
    "kernelspec": {
      "name": "python3",
      "display_name": "Python 3"
    },
    "language_info": {
      "name": "python"
    }
  },
  "cells": [
    {
      "cell_type": "code",
      "execution_count": 1,
      "metadata": {
        "id": "Khdv8VnvbqeP"
      },
      "outputs": [],
      "source": [
        "from sympy import *\n",
        "import numpy as np\n",
        "import matplotlib.pyplot as plt\n",
        "from scipy.integrate import quad"
      ]
    },
    {
      "cell_type": "code",
      "source": [
        "parametr = 1.420\n",
        "T=2\n",
        "w=np.pi"
      ],
      "metadata": {
        "id": "epTYPCi7buzh"
      },
      "execution_count": 4,
      "outputs": []
    },
    {
      "cell_type": "code",
      "source": [
        "def f(t):\n",
        "  return parametr*t**2\n",
        "\n",
        "def fa1(t):\n",
        "  return f(t)*np.cos(w*t)\n",
        "\n",
        "def fa2(t):\n",
        "  return f(t)*np.cos(2*w*t)"
      ],
      "metadata": {
        "id": "ML2Tsr5ObxOv"
      },
      "execution_count": 6,
      "outputs": []
    },
    {
      "cell_type": "code",
      "source": [
        "a0=1/T*quad(f, -1, 1)[0]\n",
        "a1=2/T*quad(fa1, -1, 1)[0]\n",
        "a2=2/T*quad(fa2, -1, 1)[0]"
      ],
      "metadata": {
        "id": "oWWgKKA9cBHv"
      },
      "execution_count": 7,
      "outputs": []
    },
    {
      "cell_type": "code",
      "source": [
        "a, b, c, t = symbols('a b c t')\n",
        "A,B,C=a0, a1, a2"
      ],
      "metadata": {
        "id": "XRW9SSVDcFYX"
      },
      "execution_count": 8,
      "outputs": []
    },
    {
      "cell_type": "code",
      "source": [
        "expr = (a*t**2+2*b*t+c -(A+B*cos(w*t)+C*cos(2*w*t)))*t**2\n",
        "sol1 = integrate(expr, (t, -1, 1))\n",
        "expr = (a*t**2+2*b*t+c -(A+B*cos(w*t)+C*cos(2*w*t))) * t\n",
        "sol2 = integrate(expr, (t, -1, 1))\n",
        "expr = (a*t**2+2*b*t+c -(A+B*cos(w*t)+C*cos(2*w*t)))\n",
        "sol3 = integrate(expr, (t,-1,1))"
      ],
      "metadata": {
        "id": "9i-ecLjDcG9m"
      },
      "execution_count": 9,
      "outputs": []
    },
    {
      "cell_type": "code",
      "source": [
        "equations = [\n",
        "  Eq(sol1,  0 ),\n",
        "  Eq(sol2, 0 ),\n",
        "  Eq(sol3,0)\n",
        "]"
      ],
      "metadata": {
        "id": "XBfkV_PecIxn"
      },
      "execution_count": 10,
      "outputs": []
    },
    {
      "cell_type": "code",
      "source": [
        "print(solve(equations))"
      ],
      "metadata": {
        "colab": {
          "base_uri": "https://localhost:8080/"
        },
        "id": "w-z-0koWdfQm",
        "outputId": "1a3ec60e-51eb-4744-8c6e-337ef4c31d40"
      },
      "execution_count": 11,
      "outputs": [
        {
          "output_type": "stream",
          "name": "stdout",
          "text": [
            "{a: 1.39399206540795, c: 0.00866931153068438, b: 0.0}\n"
          ]
        }
      ]
    },
    {
      "cell_type": "code",
      "source": [
        ""
      ],
      "metadata": {
        "id": "YRz6ufA4djkO"
      },
      "execution_count": null,
      "outputs": []
    }
  ]
}