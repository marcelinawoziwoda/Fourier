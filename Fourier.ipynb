{
  "nbformat": 4,
  "nbformat_minor": 0,
  "metadata": {
    "colab": {
      "name": "Fourier.ipynb",
      "provenance": []
    },
    "kernelspec": {
      "name": "python3",
      "display_name": "Python 3"
    },
    "language_info": {
      "name": "python"
    }
  },
  "cells": [
    {
      "cell_type": "code",
      "execution_count": 20,
      "metadata": {
        "id": "WERjUJfnaYlG"
      },
      "outputs": [],
      "source": [
        "import numpy as np"
      ]
    },
    {
      "cell_type": "code",
      "source": [
        "import matplotlib.pyplot as plt"
      ],
      "metadata": {
        "id": "kKGktD6zthVJ"
      },
      "execution_count": 2,
      "outputs": []
    },
    {
      "cell_type": "code",
      "source": [
        "from scipy.integrate import quad"
      ],
      "metadata": {
        "id": "DKZMNyortiiQ"
      },
      "execution_count": 3,
      "outputs": []
    },
    {
      "cell_type": "code",
      "source": [
        "T = 2\n",
        "w=2*np.pi/T\n",
        "p=1.420"
      ],
      "metadata": {
        "id": "0eQ4zZ3Qtjte"
      },
      "execution_count": 4,
      "outputs": []
    },
    {
      "cell_type": "code",
      "source": [
        "def f(t):\n",
        "  return (p*t**2)"
      ],
      "metadata": {
        "id": "7GTWLX_1tmRv"
      },
      "execution_count": 5,
      "outputs": []
    },
    {
      "cell_type": "code",
      "source": [
        "def fa0(t):\n",
        "  return f(t)\n",
        "a0 = 1/T*quad(fa0, -1, 1)[0]"
      ],
      "metadata": {
        "id": "Bdzu52pTtn3E"
      },
      "execution_count": 13,
      "outputs": []
    },
    {
      "cell_type": "code",
      "source": [
        "def fa1(t):\n",
        "  return f(t)*np.cos(w*(p*t**2))\n",
        "a1 = 2/T*quad(fa1, -1, 1)[0]"
      ],
      "metadata": {
        "id": "c1P1k3Yet7Au"
      },
      "execution_count": 14,
      "outputs": []
    },
    {
      "cell_type": "code",
      "source": [
        "def fa2(t):\n",
        "  return f(t)*np.cos(2*w*(p*t**2))\n",
        "a2 = 2/T*quad(fa2, -1, 1)[0]"
      ],
      "metadata": {
        "id": "ShvaW29huGpB"
      },
      "execution_count": 15,
      "outputs": []
    },
    {
      "cell_type": "code",
      "source": [
        "def fb1(t):\n",
        "  return f(t)*np.sin(np.pi*(p*t**2))\n",
        "b1 = 2/T*quad(fb1, -1, 1)[0]"
      ],
      "metadata": {
        "id": "Bq9UY0j2uK8g"
      },
      "execution_count": 16,
      "outputs": []
    },
    {
      "cell_type": "code",
      "source": [
        "def fb2(t):\n",
        "  return f(t)*np.sin(2*np.pi*(p*t**2))\n",
        "b2 = 2/T*quad(fb2, -1, 1)[0]"
      ],
      "metadata": {
        "id": "49C6RsD8uTW_"
      },
      "execution_count": 17,
      "outputs": []
    },
    {
      "cell_type": "code",
      "source": [
        "def F(t):\n",
        "  return a0+a1*np.cos(w*(p*t**2))+a2*np.cos(2*w*(p*t**2))\n",
        "\n",
        "print(\"a0 = \", a0)\n",
        "print(\"a1 = \", a1)\n",
        "print(\"a2 = \", a2)\n",
        "print(\"b1 = \", b1)\n",
        "print(\"b2 = \", b2)"
      ],
      "metadata": {
        "colab": {
          "base_uri": "https://localhost:8080/"
        },
        "id": "mOQ8BWf1uf6d",
        "outputId": "93f3fea1-06cd-4a08-ea5d-955fb47a9e25"
      },
      "execution_count": 18,
      "outputs": [
        {
          "output_type": "stream",
          "name": "stdout",
          "text": [
            "a0 =  0.47333333333333333\n",
            "a1 =  -0.414769487313794\n",
            "a2 =  0.03576593567901777\n",
            "b1 =  0.14091275040568968\n",
            "b2 =  0.17753871710537045\n"
          ]
        }
      ]
    },
    {
      "cell_type": "code",
      "source": [
        "t=np.linspace(-1, 1,100)\n",
        "fig, ax = plt.subplots()\n",
        "ax.plot(t,f(t),t,F(t))\n",
        "ax.grid(True)\n",
        "plt.show()"
      ],
      "metadata": {
        "colab": {
          "base_uri": "https://localhost:8080/",
          "height": 265
        },
        "id": "VYnfmNSIu2C7",
        "outputId": "b5e4249b-e87b-4153-d03d-0829b864c6d5"
      },
      "execution_count": 19,
      "outputs": [
        {
          "output_type": "display_data",
          "data": {
            "image/png": "[encoded data removed]",
            "text/plain": [
              "<Figure size 432x288 with 1 Axes>"
            ]
          },
          "metadata": {
            "needs_background": "light"
          }
        }
      ]
    }
  ]
}