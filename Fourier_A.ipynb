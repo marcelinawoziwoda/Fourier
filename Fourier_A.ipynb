{
  "nbformat": 4,
  "nbformat_minor": 0,
  "metadata": {
    "colab": {
      "name": "Untitled4.ipynb",
      "provenance": []
    },
    "kernelspec": {
      "name": "python3",
      "display_name": "Python 3"
    },
    "language_info": {
      "name": "python"
    }
  },
  "cells": [
    {
      "cell_type": "code",
      "execution_count": 1,
      "metadata": {
        "id": "EzGrIGVHZxIq"
      },
      "outputs": [],
      "source": [
        "from sympy import *\n",
        "import numpy as np\n",
        "import matplotlib.pyplot as plt\n",
        "from scipy.integrate import quad"
      ]
    },
    {
      "cell_type": "code",
      "source": [
        "parametr = 1.420\n",
        "T=2\n",
        "w=np.pi"
      ],
      "metadata": {
        "id": "XOeytOU6Z6rZ"
      },
      "execution_count": 2,
      "outputs": []
    },
    {
      "cell_type": "code",
      "source": [
        "def f(t):\n",
        "  return parametr*t**2"
      ],
      "metadata": {
        "id": "ifHp3Rx3aC_P"
      },
      "execution_count": 3,
      "outputs": []
    },
    {
      "cell_type": "code",
      "source": [
        "def fa1(t):\n",
        "  return f(t)*np.cos(w*t)"
      ],
      "metadata": {
        "id": "Vw5ISkNyaG0e"
      },
      "execution_count": 4,
      "outputs": []
    },
    {
      "cell_type": "code",
      "source": [
        "def fa2(t):\n",
        "  return f(t)*np.cos(2*w*t)"
      ],
      "metadata": {
        "id": "7MzbzUfDaIP3"
      },
      "execution_count": 5,
      "outputs": []
    },
    {
      "cell_type": "code",
      "source": [
        "a0=1/T*quad(f, -1, 1)[0]\n",
        "a1=2/T*quad(fa1, -1, 1)[0]\n",
        "a2=2/T*quad(fa2, -1, 1)[0]"
      ],
      "metadata": {
        "id": "urRQbgbUaJtP"
      },
      "execution_count": 6,
      "outputs": []
    },
    {
      "cell_type": "code",
      "source": [
        "print(\"a0=\",a0)\n",
        "print('a1=',a1)\n",
        "print('a2=',a2)"
      ],
      "metadata": {
        "colab": {
          "base_uri": "https://localhost:8080/"
        },
        "id": "z6A9gAOMaLKv",
        "outputId": "62fba556-00c2-467e-eba2-ecbd9e3bfef5"
      },
      "execution_count": 7,
      "outputs": [
        {
          "output_type": "stream",
          "name": "stdout",
          "text": [
            "a0= 0.47333333333333333\n",
            "a1= -0.5755043230884784\n",
            "a2= 0.1438760807721196\n"
          ]
        }
      ]
    },
    {
      "cell_type": "code",
      "source": [
        "def F(t):\n",
        "  return a0+a1*np.cos(np.pi*t)+a2*np.cos(2*np.pi*t)"
      ],
      "metadata": {
        "id": "j1z9B0KqaNI-"
      },
      "execution_count": 8,
      "outputs": []
    },
    {
      "cell_type": "code",
      "source": [
        "t=np.linspace(-1, 1, 100)\n",
        "fig, ax=plt.subplots()\n",
        "ax.plot(t,f(t),t,F(t))\n",
        "ax.grid(True)\n",
        "plt.show()"
      ],
      "metadata": {
        "colab": {
          "base_uri": "https://localhost:8080/",
          "height": 265
        },
        "id": "0fFQKcllahjm",
        "outputId": "f7149169-4d22-42db-85b9-cf1dc16a5898"
      },
      "execution_count": 11,
      "outputs": [
        {
          "output_type": "display_data",
          "data": {
            "image/png": "[encoded data removed]",
            "text/plain": [
              "<Figure size 432x288 with 1 Axes>"
            ]
          },
          "metadata": {
            "needs_background": "light"
          }
        }
      ]
    },
    {
      "cell_type": "code",
      "source": [
        ""
      ],
      "metadata": {
        "id": "P1OiHSM_atDo"
      },
      "execution_count": null,
      "outputs": []
    }
  ]
}